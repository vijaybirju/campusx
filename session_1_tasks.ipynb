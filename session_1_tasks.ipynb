{
  "nbformat": 4,
  "nbformat_minor": 0,
  "metadata": {
    "colab": {
      "provenance": [],
      "include_colab_link": true
    },
    "kernelspec": {
      "name": "python3",
      "display_name": "Python 3"
    },
    "language_info": {
      "name": "python"
    }
  },
  "cells": [
    {
      "cell_type": "markdown",
      "metadata": {
        "id": "view-in-github",
        "colab_type": "text"
      },
      "source": [
        "<a href=\"https://colab.research.google.com/github/vijaybirju/campusx/blob/main/session_1_tasks.ipynb\" target=\"_parent\"><img src=\"https://colab.research.google.com/assets/colab-badge.svg\" alt=\"Open In Colab\"/></a>"
      ]
    },
    {
      "cell_type": "markdown",
      "source": [
        "# Task : Session 1\n",
        "Solve these questions own your own and try to test yourself what you have learned in the session.\n",
        "\n",
        "Happy Learning!"
      ],
      "metadata": {
        "id": "A05OG15VqOPF"
      }
    },
    {
      "cell_type": "markdown",
      "source": [
        "### Q1 :- Print the given strings as per stated format.\n",
        "\n",
        "**Given strings**: \n",
        "```\n",
        "\"Data\" \"Science\" \"Mentorship\" \"Program\" \n",
        "\"By\" \"CampusX\"\n",
        "```\n",
        "**Output**: \n",
        "``` \n",
        "Data-Science-Mentorship-Program-started-By-CampusX\n",
        "```\n",
        "\n",
        "Concept- [Seperator and End]"
      ],
      "metadata": {
        "id": "2doIXf8bqe9_"
      }
    },
    {
      "cell_type": "code",
      "source": [
        "print(\"Data\",end='-')\n",
        "print(\"Science\",end='-')\n",
        "print(\"Mentorship\",end='-')\n",
        "print(\"Program\",end='-')\n",
        "print(\"started\",end='-')\n",
        "print(\"By\",end='-')\n",
        "print(\"CampusX\")\n"
      ],
      "metadata": {
        "id": "-em6d3KErDtp",
        "colab": {
          "base_uri": "https://localhost:8080/"
        },
        "outputId": "957b4cbe-b3f9-45c4-8cab-d1c811ff13a1"
      },
      "execution_count": 2,
      "outputs": [
        {
          "output_type": "stream",
          "name": "stdout",
          "text": [
            "Data-Science-Mentorship-Program-started-By-CampusX\n"
          ]
        }
      ]
    },
    {
      "cell_type": "markdown",
      "source": [
        "### Q2:- Write a program that will convert celsius value to fahrenheit."
      ],
      "metadata": {
        "id": "1KUpN7ZTrC3_"
      }
    },
    {
      "cell_type": "code",
      "source": [
        "celsius = int(input('Enter temprature in celsius: '))\n",
        "\n",
        "fahrenheit = celsius*(9/5)+32\n",
        "print('Temp in fahrenheit is ',fahrenheit)"
      ],
      "metadata": {
        "id": "yxKYhYQiqWfj",
        "colab": {
          "base_uri": "https://localhost:8080/"
        },
        "outputId": "7f95c5fc-f6d8-4a06-e6ff-a0a9a2bfc4b8"
      },
      "execution_count": 5,
      "outputs": [
        {
          "output_type": "stream",
          "name": "stdout",
          "text": [
            "Enter temprature in celsius: 0\n",
            "Temp in fahrenheit is  32.0\n"
          ]
        }
      ]
    },
    {
      "cell_type": "markdown",
      "source": [
        "### Q3:- Take 2 numbers as input from the user.Write a program to swap the numbers without using any special python syntax."
      ],
      "metadata": {
        "id": "RLrOBBJurLB2"
      }
    },
    {
      "cell_type": "code",
      "source": [
        "a=int(input('Frist no.'))\n",
        "b=int(input('second no.'))\n",
        "\n",
        "c=b\n",
        "b=a\n",
        "a=c\n",
        "\n",
        "print(f'after swap a:{a} and b:{b} ')"
      ],
      "metadata": {
        "id": "yPn7if0TrJ4F",
        "colab": {
          "base_uri": "https://localhost:8080/"
        },
        "outputId": "4a136fb1-d17a-404e-a464-3f199fad0fbc"
      },
      "execution_count": 7,
      "outputs": [
        {
          "output_type": "stream",
          "name": "stdout",
          "text": [
            "Frist no.8\n",
            "second no.9\n",
            "after swap a:9 and b:8 \n"
          ]
        }
      ]
    },
    {
      "cell_type": "markdown",
      "source": [
        "### Q4:- Write a program to find the euclidean distance between two coordinates.Take both the coordinates from the user as input."
      ],
      "metadata": {
        "id": "waLCP1bjr7ML"
      }
    },
    {
      "cell_type": "code",
      "source": [
        "a,b= int(input('x of first coordinate ')),int(input('y of first coordinate'))\n",
        "c,d= int(input('x of second coordinate ')),int(input('y of second coordinate'))\n",
        "\n",
        "euclidean_distance = ((a-c)**2 + (b-d)**2)**(1/2)\n",
        "print('euclidean distance: ',euclidean_distance)"
      ],
      "metadata": {
        "id": "Pl1Sv-xnrxnH",
        "colab": {
          "base_uri": "https://localhost:8080/"
        },
        "outputId": "58a11da0-f02b-49eb-907c-8cf9232e3993"
      },
      "execution_count": 12,
      "outputs": [
        {
          "output_type": "stream",
          "name": "stdout",
          "text": [
            "x of first coordinate 0\n",
            "y of first coordinate0\n",
            "x of second coordinate 3\n",
            "y of second coordinate4\n",
            "euclidean distance:  5.0\n"
          ]
        }
      ]
    },
    {
      "cell_type": "markdown",
      "source": [
        "0### Q5:- Write a program to find the simple interest when the value of principle,rate of interest and time period is provided by the user.\n"
      ],
      "metadata": {
        "id": "VLrhg-FRsHjR"
      }
    },
    {
      "cell_type": "code",
      "source": [
        "# Write your code here"
      ],
      "metadata": {
        "id": "s40DlReZsTmY"
      },
      "execution_count": null,
      "outputs": []
    },
    {
      "cell_type": "markdown",
      "source": [
        "### Q6:- Write a program that will tell the number of dogs and chicken are there when the user will provide the value of total heads and legs.\n",
        "\n",
        "For example:\n",
        "Input:\n",
        "heads -> 4\n",
        "legs -> 12\n",
        "<br>\n",
        "Output:\n",
        "dogs -> 2\n",
        "chicken -> 2\n",
        "\n",
        "\n",
        "\n"
      ],
      "metadata": {
        "id": "LMy0BTUktYKa"
      }
    },
    {
      "cell_type": "code",
      "source": [
        "# Write your code here"
      ],
      "metadata": {
        "id": "XSBvJoA4tXaG"
      },
      "execution_count": null,
      "outputs": []
    },
    {
      "cell_type": "markdown",
      "source": [
        "### Q7:- Write a program to find the sum of squares of first n natural numbers where n will be provided by the user."
      ],
      "metadata": {
        "id": "gJ7C5kZYt4BP"
      }
    },
    {
      "cell_type": "code",
      "source": [
        "# Write your code here"
      ],
      "metadata": {
        "id": "_tHsmEHzt2nX"
      },
      "execution_count": null,
      "outputs": []
    },
    {
      "cell_type": "markdown",
      "source": [
        "### Q8:- Given the first 2 terms of an Arithmetic Series.Find the Nth term of the series. Assume all inputs are provided by the user."
      ],
      "metadata": {
        "id": "FHrMM7g-yG1h"
      }
    },
    {
      "cell_type": "code",
      "source": [
        "# Write your code here"
      ],
      "metadata": {
        "id": "go4_kmZmyVSx"
      },
      "execution_count": null,
      "outputs": []
    },
    {
      "cell_type": "markdown",
      "source": [
        "### Q9:- Given 2 fractions, find the sum of those 2 fractions.Take the numerator and denominator values of the fractions from the user."
      ],
      "metadata": {
        "id": "QgyRX_es1oum"
      }
    },
    {
      "cell_type": "code",
      "source": [
        "# Write your code here"
      ],
      "metadata": {
        "id": "X05xqFS1yW16"
      },
      "execution_count": null,
      "outputs": []
    },
    {
      "cell_type": "markdown",
      "source": [
        "### Q10:- Given the height, width and breadth of a milk tank, you have to find out how many glasses of milk can be obtained? Assume all the inputs are provided by the user.\n",
        "\n",
        "\n",
        "\n",
        "Input:<br>\n",
        "Dimensions of the milk tank<br>\n",
        "H = 20cm, L = 20cm, B = 20cm\n",
        "<br><br>\n",
        "Dimensions of the glass<br>\n",
        "h = 3cm, r = 1cm"
      ],
      "metadata": {
        "id": "eaql38ln13u7"
      }
    },
    {
      "cell_type": "code",
      "source": [
        "# Write your code here"
      ],
      "metadata": {
        "id": "FePZqno74eWv"
      },
      "execution_count": null,
      "outputs": []
    }
  ]
}